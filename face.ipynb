{
 "cells": [
  {
   "cell_type": "markdown",
   "id": "545b1464-29d3-40f9-8664-5a71eef0a9ce",
   "metadata": {},
   "source": [
    "# Face detection"
   ]
  },
  {
   "cell_type": "code",
   "execution_count": 24,
   "id": "c27a5f53-624b-4ec2-8f0a-4adc0fcc7d16",
   "metadata": {},
   "outputs": [
    {
     "name": "stderr",
     "output_type": "stream",
     "text": [
      "OpenCV: FFMPEG: tag 0x34504d46/'FMP4' is not supported with codec id 12 and format 'mp4 / MP4 (MPEG-4 Part 14)'\n",
      "OpenCV: FFMPEG: fallback to use tag 0x7634706d/'mp4v'\n"
     ]
    },
    {
     "data": {
      "text/html": [
       "<video src=\"video_processed.mp4\" controls  >\n",
       "      Your browser does not support the <code>video</code> element.\n",
       "    </video>"
      ],
      "text/plain": [
       "<IPython.core.display.Video object>"
      ]
     },
     "execution_count": 24,
     "metadata": {},
     "output_type": "execute_result"
    }
   ],
   "source": [
    "from facenet_pytorch import MTCNN\n",
    "import torch\n",
    "import numpy as np\n",
    "import mmcv, cv2\n",
    "from PIL import Image, ImageDraw, ImageFilter, ImageFont\n",
    "from IPython import display\n",
    "from collections import namedtuple\n",
    "\n",
    "\n",
    "Coordinates = namedtuple(\"Coordinates\", [\"x0\", \"x1\", \"y0\", \"y1\"])\n",
    "\n",
    "file_name = \"video.mp4\"\n",
    "\n",
    "device = torch.device(\"cuda:0\" if torch.cuda.is_available() else \"cpu\")\n",
    "# face detector\n",
    "mtcnn = MTCNN(keep_all=True, device=device)\n",
    "video = cv2.VideoCapture(file_name)\n",
    "length = int(video.get(cv2.CAP_PROP_FRAME_COUNT))\n",
    "width = int(video.get(cv2.CAP_PROP_FRAME_WIDTH))\n",
    "height = int(video.get(cv2.CAP_PROP_FRAME_HEIGHT))\n",
    "fps = video.get(cv2.CAP_PROP_FPS)\n",
    "\n",
    "frames_tracked = []\n",
    "font = ImageFont.truetype(\"arial.ttf\", 36)\n",
    "\n",
    "\n",
    "def make_ellipse_mask(size, coordinates, ellipse_blur=10):\n",
    "    mask = Image.new(\"L\", size, color=0)\n",
    "    draw = ImageDraw.Draw(mask)\n",
    "    x0, y0, x1, y1 = coordinates\n",
    "    ellipse_size = [x0 * 0.95, y0 * 0.95, x1 * 1.05, y1 * 1.05]\n",
    "    draw.ellipse(ellipse_size, fill=255)\n",
    "    return mask.filter(ImageFilter.GaussianBlur(radius=ellipse_blur))\n",
    "\n",
    "\n",
    "while frames_to_read := True:\n",
    "    frames_to_read, frame = video.read()\n",
    "    if not frames_to_read:\n",
    "        break\n",
    "    frame = Image.fromarray(cv2.cvtColor(frame, cv2.COLOR_BGR2RGB))\n",
    "    frame_draw = frame.copy()\n",
    "    frame_array = np.array(frame_draw)\n",
    "    # scale for faster detections\n",
    "    scale = 0.5\n",
    "    frame_array = cv2.resize(\n",
    "        frame_array, (int(frame_draw.size[0] * scale), int(frame_draw.size[1] * scale))\n",
    "    )\n",
    "    draw = ImageDraw.Draw(frame_draw)\n",
    "    # detect faces\n",
    "    faces, _ = mtcnn.detect(frame_array)\n",
    "    if faces is None:\n",
    "        continue\n",
    "    draw.text((20, 50), f\"Faces: {len(faces)}\", color=\"white\", font=font)\n",
    "\n",
    "    blurred = frame_draw.filter(ImageFilter.GaussianBlur(40))\n",
    "    for face in faces:\n",
    "        coordinates = Coordinates(*[x/scale for x in face.tolist()])\n",
    "        mask_box = make_ellipse_mask(frame_draw.size, coordinates)\n",
    "        frame_draw.paste(blurred, mask=mask_box)\n",
    "        draw.rectangle(coordinates, outline=\"red\")\n",
    "    frames_tracked.append(frame_draw.resize((640, 380), Image.BILINEAR))\n",
    "\n",
    "dim = frames_tracked[0].size\n",
    "fourcc = cv2.VideoWriter_fourcc(*\"FMP4\")\n",
    "filename_chunks = file_name.split(\".\")\n",
    "processed_name = (\n",
    "    f\"{'_'.join([*filename_chunks[:1], 'processed'])}.{filename_chunks[-1]}\"\n",
    ")\n",
    "video_tracked = cv2.VideoWriter(processed_name, fourcc, fps, dim)\n",
    "for frame in frames_tracked:\n",
    "    video_tracked.write(cv2.cvtColor(np.array(frame), cv2.COLOR_RGB2BGR))\n",
    "video_tracked.release()\n"
   ]
  },
  {
   "cell_type": "code",
   "execution_count": 3,
   "id": "68933b87-cc95-4e54-8ad7-62b61ccbec24",
   "metadata": {},
   "outputs": [
    {
     "ename": "AttributeError",
     "evalue": "'function' object has no attribute 'Video'",
     "output_type": "error",
     "traceback": [
      "\u001b[0;31m---------------------------------------------------------------------------\u001b[0m",
      "\u001b[0;31mAttributeError\u001b[0m                            Traceback (most recent call last)",
      "Cell \u001b[0;32mIn[3], line 1\u001b[0m\n\u001b[0;32m----> 1\u001b[0m \u001b[43mdisplay\u001b[49m\u001b[38;5;241;43m.\u001b[39;49m\u001b[43mVideo\u001b[49m(processed_name)\n",
      "\u001b[0;31mAttributeError\u001b[0m: 'function' object has no attribute 'Video'"
     ]
    }
   ],
   "source": [
    "display.Video(processed_name)"
   ]
  },
  {
   "cell_type": "code",
   "execution_count": null,
   "id": "1c114560-e658-4cea-af71-cf49eb1ba983",
   "metadata": {},
   "outputs": [],
   "source": []
  }
 ],
 "metadata": {
  "kernelspec": {
   "display_name": "Python 3 (ipykernel)",
   "language": "python",
   "name": "python3"
  },
  "language_info": {
   "codemirror_mode": {
    "name": "ipython",
    "version": 3
   },
   "file_extension": ".py",
   "mimetype": "text/x-python",
   "name": "python",
   "nbconvert_exporter": "python",
   "pygments_lexer": "ipython3",
   "version": "3.11.2"
  }
 },
 "nbformat": 4,
 "nbformat_minor": 5
}
